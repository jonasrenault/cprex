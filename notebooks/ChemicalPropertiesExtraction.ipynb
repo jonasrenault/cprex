{
 "cells": [
  {
   "cell_type": "code",
   "execution_count": 1,
   "id": "53714844-e140-4619-8b4e-49fe61a8b8d7",
   "metadata": {},
   "outputs": [],
   "source": [
    "from pathlib import Path\n",
    "from cprex.parser.pdf_parser import parse_pdf_to_dict\n",
    "\n",
    "pdf = Path.cwd().parent / \"resources\" / \"KDNP.pdf\"\n",
    "article = parse_pdf_to_dict(pdf, segment_sentences=False)"
   ]
  },
  {
   "cell_type": "code",
   "execution_count": 4,
   "id": "762132be-7d00-4a4e-8bce-d415fd5b247b",
   "metadata": {},
   "outputs": [
    {
     "data": {
      "text/plain": [
       "[['Efforts directed towards creating new environmentally friendly replacements for existing primary explosives have resulted in development of potassium 5,7-dinitro-[2,1,3]-benzoxadiazol-4olate 3-oxide (KDNP). The chemical and physical properties of this material have been investigated and it appears that KDNP is a suitable drop-in replacement for lead styphnate in a variety of ordnance applications. KDNP is easily prepared, has excellent thermal stability and has safety and performance properties, which are equivalent to or exceed those for lead styphnate. KDNP has been qualified for military use per NAVSEAINST 8020.5C.']]"
      ]
     },
     "execution_count": 4,
     "metadata": {},
     "output_type": "execute_result"
    }
   ],
   "source": [
    "article.abstract"
   ]
  },
  {
   "cell_type": "code",
   "execution_count": null,
   "id": "65ba3a93-b260-4eb4-bc5f-0cd1aefa5373",
   "metadata": {},
   "outputs": [],
   "source": []
  }
 ],
 "metadata": {
  "kernelspec": {
   "display_name": "Python 3 (ipykernel)",
   "language": "python",
   "name": "python3"
  },
  "language_info": {
   "codemirror_mode": {
    "name": "ipython",
    "version": 3
   },
   "file_extension": ".py",
   "mimetype": "text/x-python",
   "name": "python",
   "nbconvert_exporter": "python",
   "pygments_lexer": "ipython3",
   "version": "3.12.2"
  }
 },
 "nbformat": 4,
 "nbformat_minor": 5
}
