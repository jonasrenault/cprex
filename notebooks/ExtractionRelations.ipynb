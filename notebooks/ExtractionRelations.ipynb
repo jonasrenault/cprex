{
 "cells": [
  {
   "cell_type": "markdown",
   "id": "432da7f7-9898-4a17-b668-e6e1f31008be",
   "metadata": {},
   "source": [
    "# Tuples (Chemical compound, Property, Value) extraction from ChemRxiv"
   ]
  },
  {
   "cell_type": "markdown",
   "id": "fb004239-58df-4d26-a01a-d9c6060375aa",
   "metadata": {},
   "source": [
    "This notebook extracts tuples from scientific publications taken from ChemRxiv and processed with our pipeline. We assume that the [Corpus](./Corpus.ipynb) notebook was run beforehand and that processing results for each scientific publication are saved in Spacy DocBins in the `~/.cprex/data` directory."
   ]
  },
  {
   "cell_type": "code",
   "execution_count": 1,
   "id": "ba901c53-f6c3-4007-b0bc-fdd9652f2c61",
   "metadata": {},
   "outputs": [],
   "source": [
    "from pathlib import Path\n",
    "\n",
    "DATA_DIR = Path.home() / \".cprex\" / \"data\""
   ]
  },
  {
   "cell_type": "code",
   "execution_count": 2,
   "id": "25fc9d98-8c25-411d-bc20-fcb31af5a867",
   "metadata": {},
   "outputs": [
    {
     "name": "stderr",
     "output_type": "stream",
     "text": [
      "/Users/jrenault/workspace/cprex/.venv/lib/python3.11/site-packages/tqdm/auto.py:21: TqdmWarning: IProgress not found. Please update jupyter and ipywidgets. See https://ipywidgets.readthedocs.io/en/stable/user_install.html\n",
      "  from .autonotebook import tqdm as notebook_tqdm\n",
      "/Users/jrenault/workspace/cprex/.venv/lib/python3.11/site-packages/transformers/utils/generic.py:441: UserWarning: torch.utils._pytree._register_pytree_node is deprecated. Please use torch.utils._pytree.register_pytree_node instead.\n",
      "  _torch_pytree._register_pytree_node(\n",
      "/Users/jrenault/workspace/cprex/.venv/lib/python3.11/site-packages/transformers/utils/generic.py:309: UserWarning: torch.utils._pytree._register_pytree_node is deprecated. Please use torch.utils._pytree.register_pytree_node instead.\n",
      "  _torch_pytree._register_pytree_node(\n",
      "/Users/jrenault/workspace/cprex/.venv/lib/python3.11/site-packages/transformers/utils/generic.py:309: UserWarning: torch.utils._pytree._register_pytree_node is deprecated. Please use torch.utils._pytree.register_pytree_node instead.\n",
      "  _torch_pytree._register_pytree_node(\n"
     ]
    }
   ],
   "source": [
    "from cprex.pipeline import get_pipeline\n",
    "\n",
    "nlp = get_pipeline(spacy_model=\"en_core_web_sm\", enable_ner_pipelines= False)"
   ]
  },
  {
   "cell_type": "markdown",
   "id": "642f79fe-d9b2-461e-b2d1-53535fd08c2d",
   "metadata": {},
   "source": [
    "The `get_tuples` function will extract tuples present in the Docs parsed by the pipeline. The `triplets_only` parameter lets you choose to keep only full triplets (having a value, a property and a chemical) or if we accept only pairs of named entity (i.e. with a chemical and a value, but no linked property)."
   ]
  },
  {
   "cell_type": "code",
   "execution_count": 3,
   "id": "6c48929d-5bb2-490d-83ff-613601e1ef5f",
   "metadata": {},
   "outputs": [],
   "source": [
    "import json\n",
    "from cprex.corpus.corpus import load_docs\n",
    "from cprex.corpus.tuples import extract_tuple_relations\n",
    "\n",
    "def get_tuples(nlp, triplets_only: bool = False):\n",
    "    res = []\n",
    "    for doc_file in DATA_DIR.glob(\"*.spacy\"):\n",
    "        docs = load_docs(doc_file, nlp, set_doi=True)\n",
    "        for doc in docs:\n",
    "            tuples = extract_tuple_relations(doc)\n",
    "            for tuple_ in tuples:\n",
    "                if tuple_.chemicals is not None and (not triplets_only or tuple_.properties is not None):\n",
    "                    res.append(tuple_.to_dict())\n",
    "\n",
    "    return res"
   ]
  },
  {
   "cell_type": "code",
   "execution_count": 4,
   "id": "d2ac1334-5c57-4bc4-be1e-1177fd9d0fed",
   "metadata": {},
   "outputs": [],
   "source": [
    "triplets = get_tuples(nlp, triplets_only = True)\n",
    "tuples = get_tuples(nlp, triplets_only = False)"
   ]
  },
  {
   "cell_type": "code",
   "execution_count": 5,
   "id": "df45dd51-ec80-4a6b-91ac-cbbd470bf849",
   "metadata": {},
   "outputs": [
    {
     "name": "stdout",
     "output_type": "stream",
     "text": [
      "Triplets: 447, pairs: 1000\n"
     ]
    }
   ],
   "source": [
    "print(f\"Triplets: {len(triplets)}, pairs: {len(tuples)}\")"
   ]
  },
  {
   "cell_type": "markdown",
   "id": "57a6ee9e-c082-4b44-bc40-c74aadcdf2d4",
   "metadata": {},
   "source": [
    "Once extraction is complete, we can save the tuples in a json file."
   ]
  },
  {
   "cell_type": "code",
   "execution_count": 6,
   "id": "58fdb6ae-334e-45d1-8b57-57f513af5466",
   "metadata": {},
   "outputs": [],
   "source": [
    "import json\n",
    "from pathlib import Path\n",
    "\n",
    "out_file = Path() / \"triplets_chemrxiv.json\"\n",
    "with open(out_file, 'w') as f:\n",
    "    json.dump(triplets, f, indent=2)"
   ]
  },
  {
   "cell_type": "markdown",
   "id": "a73a76ee-7e6d-452e-adb8-abd65a3dd1de",
   "metadata": {},
   "source": [
    "### Displaying docs for a single paper"
   ]
  },
  {
   "cell_type": "markdown",
   "id": "0175e3ef-48fb-410f-aaa0-58fe1f89f214",
   "metadata": {},
   "source": [
    "From the DOI of a paper, we can display the paragraphs which contain the tuples that were extracted."
   ]
  },
  {
   "cell_type": "code",
   "execution_count": 7,
   "id": "b10ec9e0-2b8a-40c1-bec1-e3907446e136",
   "metadata": {},
   "outputs": [],
   "source": [
    "from pathlib import Path\n",
    "from cprex.corpus.corpus import load_docs\n",
    "from cprex.corpus.tuples import extract_tuple_relations\n",
    "from cprex.displacy.render import render_docs\n",
    "\n",
    "def display_tuples_for_doc(nlp, doi: str, triplets_only: bool = False):\n",
    "    doi = doi.replace(\"/\", \"_\") + (\"\" if doi.endswith(\".spacy\") else \".spacy\")\n",
    "    docs = load_docs(DATA_DIR / doi, nlp)\n",
    "    display_docs = []\n",
    "    for doc in docs:\n",
    "        tuples = extract_tuple_relations(doc)\n",
    "        good_tuples = [tuple_.to_dict() for tuple_ in tuples if tuple_.chemicals is not None and (not triplets_only or tuple_.properties is not None)]\n",
    "        if good_tuples:\n",
    "            display_docs.append(doc)\n",
    "\n",
    "    render_docs(display_docs)"
   ]
  },
  {
   "cell_type": "code",
   "execution_count": 8,
   "id": "981b1f9a-15a7-4a13-8e2a-aa30e4e60cd7",
   "metadata": {},
   "outputs": [
    {
     "data": {
      "text/html": [
       "<span class=\"tex2jax_ignore\"><h2 style=\"margin: 0\">Glucose dehydration to 5-HMF using ESP-Phos200</h2>\n",
       "\n",
       "<div class=\"entities\" style=\"line-height: 2.5; direction: ltr\">Where k (rate constant), A (frequency factor), T (temperature), and R (gas constant). The plot of ln 𝑘 𝑣𝑠 1/𝑇 provided the linear fit with an R 2 value &gt; 0.9 (Fig. S8 b,c,d). The values of A and Ea were calculated by comparing Eqn. 8 with the linearly fitted equation (Table 1). The \n",
       "<span style=\"display: inline-block; position: relative; height: 77px;\">\n",
       "    \n",
       "<mark class=\"entity\" style=\"background: #feca74; padding: 0.45em 0.6em; margin: 0 0.25em; line-height: 1; border-radius: 0.35em;display: inline-block;\">\n",
       "    activation energy\n",
       "    <span style=\"font-size: 0.8em; font-weight: bold; line-height: 1; border-radius: 0.35em; vertical-align: middle; margin-left: 0.5rem\">PROP</span>\n",
       "</mark>\n",
       "\n",
       "    \n",
       "<span style=\"background: #7fc97f; top: 40px; height: 4px; left: -1px; width: calc(100% + 4px); position: absolute;\">\n",
       "</span>\n",
       "\n",
       "<span style=\"background: #beaed4; top: 57px; height: 4px; left: -1px; width: calc(100% + 4px); position: absolute;\">\n",
       "</span>\n",
       "\n",
       "    \n",
       "<span style=\"background: #7fc97f; top: 40px; height: 4px; border-top-left-radius: 3px; border-bottom-left-radius: 3px; left: -1px; width: calc(100% + 4px); position: absolute;\">\n",
       "    <span style=\"background: #7fc97f; z-index: 10; color: #000; top: -0.5em; padding: 2px 3px; position: absolute; font-size: 0.6em; font-weight: bold; line-height: 1; border-radius: 3px\">\n",
       "        has_value (0.99)\n",
       "    </span>\n",
       "</span>\n",
       "\n",
       "<span style=\"background: #beaed4; top: 57px; height: 4px; border-top-left-radius: 3px; border-bottom-left-radius: 3px; left: -1px; width: calc(100% + 4px); position: absolute;\">\n",
       "    <span style=\"background: #beaed4; z-index: 10; color: #000; top: -0.5em; padding: 2px 3px; position: absolute; font-size: 0.6em; font-weight: bold; line-height: 1; border-radius: 3px\">\n",
       "        has_value (0.98)\n",
       "    </span>\n",
       "</span>\n",
       "\n",
       "</span>\n",
       "\n",
       "<span style=\"display: inline-block; position: relative; height: 77px;\">\n",
       "     for \n",
       "    \n",
       "<span style=\"background: #7fc97f; top: 40px; height: 4px; left: -1px; width: calc(100% + 4px); position: absolute;\">\n",
       "</span>\n",
       "\n",
       "<span style=\"background: #beaed4; top: 57px; height: 4px; left: -1px; width: calc(100% + 4px); position: absolute;\">\n",
       "</span>\n",
       "\n",
       "    \n",
       "</span>\n",
       "\n",
       "<span style=\"display: inline-block; position: relative; height: 77px;\">\n",
       "    \n",
       "<mark class=\"entity\" style=\"background: pink; padding: 0.45em 0.6em; margin: 0 0.25em; line-height: 1; border-radius: 0.35em;display: inline-block;\">\n",
       "    glucose\n",
       "    <span style=\"font-size: 0.8em; font-weight: bold; line-height: 1; border-radius: 0.35em; vertical-align: middle; margin-left: 0.5rem\">CHEM</span>\n",
       "</mark>\n",
       "\n",
       "    \n",
       "<span style=\"background: #7fc97f; top: 40px; height: 4px; left: -1px; width: calc(100% + 4px); position: absolute;\">\n",
       "</span>\n",
       "\n",
       "<span style=\"background: #beaed4; top: 57px; height: 4px; left: -1px; width: calc(100% + 4px); position: absolute;\">\n",
       "</span>\n",
       "\n",
       "    \n",
       "</span>\n",
       "\n",
       "<span style=\"display: inline-block; position: relative; height: 77px;\">\n",
       "     to humin conversion was estimated to be \n",
       "    \n",
       "<span style=\"background: #7fc97f; top: 40px; height: 4px; left: -1px; width: calc(100% + 4px); position: absolute;\">\n",
       "</span>\n",
       "\n",
       "<span style=\"background: #beaed4; top: 57px; height: 4px; left: -1px; width: calc(100% + 4px); position: absolute;\">\n",
       "</span>\n",
       "\n",
       "    \n",
       "</span>\n",
       "\n",
       "<span style=\"display: inline-block; position: relative; height: 94px;\">\n",
       "    \n",
       "<mark class=\"entity\" style=\"background: #7aecec; padding: 0.45em 0.6em; margin: 0 0.25em; line-height: 1; border-radius: 0.35em;display: inline-block;\">\n",
       "    42.09 kJ mol -1\n",
       "    <span style=\"font-size: 0.8em; font-weight: bold; line-height: 1; border-radius: 0.35em; vertical-align: middle; margin-left: 0.5rem\">ENTHALPY</span>\n",
       "</mark>\n",
       "\n",
       "    \n",
       "<span style=\"background: #7fc97f; top: 40px; height: 4px; left: -1px; width: calc(100% - 20px); position: absolute;\">\n",
       "    <span style=\"background: #7fc97f; z-index: 10; color: #7fc97f; bottom: 0px; right: 0px; padding: 2px 3px; position: absolute; font-size: 0.6em; font-weight: bold; line-height: 1; border-radius: 3px\">\n",
       "        |\n",
       "    </span>\n",
       "</span>\n",
       "\n",
       "<span style=\"background: #beaed4; top: 57px; height: 4px; left: -1px; width: calc(100% + 4px); position: absolute;\">\n",
       "</span>\n",
       "\n",
       "<span style=\"background: #fdc086; top: 74px; height: 4px; left: -1px; width: calc(100% - 20px); position: absolute; margin-left: 20px;\">\n",
       "    <span style=\"background: #fdc086; z-index: 10; color: #fdc086; bottom: 0px; left: 0px; padding: 2px 3px; position: absolute; font-size: 0.6em; font-weight: bold; line-height: 1; border-radius: 3px\">\n",
       "        |\n",
       "    </span>\n",
       "</span>\n",
       "\n",
       "    \n",
       "</span>\n",
       "\n",
       "<span style=\"display: inline-block; position: relative; height: 94px;\">\n",
       "     while that of \n",
       "    \n",
       "<span style=\"background: #beaed4; top: 57px; height: 4px; left: -1px; width: calc(100% + 4px); position: absolute;\">\n",
       "</span>\n",
       "\n",
       "<span style=\"background: #fdc086; top: 74px; height: 4px; left: -1px; width: calc(100% + 4px); position: absolute;\">\n",
       "</span>\n",
       "\n",
       "    \n",
       "</span>\n",
       "\n",
       "<span style=\"display: inline-block; position: relative; height: 94px;\">\n",
       "    \n",
       "<mark class=\"entity\" style=\"background: pink; padding: 0.45em 0.6em; margin: 0 0.25em; line-height: 1; border-radius: 0.35em;display: inline-block;\">\n",
       "    glucose\n",
       "    <span style=\"font-size: 0.8em; font-weight: bold; line-height: 1; border-radius: 0.35em; vertical-align: middle; margin-left: 0.5rem\">CHEM</span>\n",
       "</mark>\n",
       "\n",
       "    \n",
       "<span style=\"background: #beaed4; top: 57px; height: 4px; left: -1px; width: calc(100% + 4px); position: absolute;\">\n",
       "</span>\n",
       "\n",
       "<span style=\"background: #fdc086; top: 74px; height: 4px; left: -1px; width: calc(100% + 4px); position: absolute;\">\n",
       "</span>\n",
       "\n",
       "    \n",
       "</span>\n",
       "\n",
       "<span style=\"display: inline-block; position: relative; height: 94px;\">\n",
       "     to \n",
       "    \n",
       "<span style=\"background: #beaed4; top: 57px; height: 4px; left: -1px; width: calc(100% + 4px); position: absolute;\">\n",
       "</span>\n",
       "\n",
       "<span style=\"background: #fdc086; top: 74px; height: 4px; left: -1px; width: calc(100% + 4px); position: absolute;\">\n",
       "</span>\n",
       "\n",
       "    \n",
       "</span>\n",
       "\n",
       "<span style=\"display: inline-block; position: relative; height: 94px;\">\n",
       "    \n",
       "<mark class=\"entity\" style=\"background: pink; padding: 0.45em 0.6em; margin: 0 0.25em; line-height: 1; border-radius: 0.35em;display: inline-block;\">\n",
       "    HMF\n",
       "    <span style=\"font-size: 0.8em; font-weight: bold; line-height: 1; border-radius: 0.35em; vertical-align: middle; margin-left: 0.5rem\">CHEM</span>\n",
       "</mark>\n",
       "\n",
       "    \n",
       "<span style=\"background: #beaed4; top: 57px; height: 4px; left: -1px; width: calc(100% + 4px); position: absolute;\">\n",
       "</span>\n",
       "\n",
       "<span style=\"background: #fdc086; top: 74px; height: 4px; left: -1px; width: calc(100% + 4px); position: absolute;\">\n",
       "</span>\n",
       "\n",
       "    \n",
       "<span style=\"background: #fdc086; top: 74px; height: 4px; border-top-left-radius: 3px; border-bottom-left-radius: 3px; left: -1px; width: calc(100% + 2px); position: absolute;\">\n",
       "    <span style=\"background: #fdc086; z-index: 10; color: #000; top: -0.5em; right: -2px; padding: 2px 3px; position: absolute; font-size: 0.6em; font-weight: bold; line-height: 1; border-radius: 3px\">\n",
       "        has_value (0.47)\n",
       "    </span>\n",
       "</span>\n",
       "\n",
       "</span>\n",
       "\n",
       "<span style=\"display: inline-block; position: relative; height: 77px;\">\n",
       "     synthesis was estimated to be \n",
       "    \n",
       "<span style=\"background: #beaed4; top: 57px; height: 4px; left: -1px; width: calc(100% + 4px); position: absolute;\">\n",
       "</span>\n",
       "\n",
       "    \n",
       "</span>\n",
       "\n",
       "<span style=\"display: inline-block; position: relative; height: 77px;\">\n",
       "    \n",
       "<mark class=\"entity\" style=\"background: #7aecec; padding: 0.45em 0.6em; margin: 0 0.25em; line-height: 1; border-radius: 0.35em;display: inline-block;\">\n",
       "    36.71 kJ mol -1\n",
       "    <span style=\"font-size: 0.8em; font-weight: bold; line-height: 1; border-radius: 0.35em; vertical-align: middle; margin-left: 0.5rem\">ENTHALPY</span>\n",
       "</mark>\n",
       "\n",
       "    \n",
       "<span style=\"background: #beaed4; top: 57px; height: 4px; left: -1px; width: calc(100% - 20px); position: absolute;\">\n",
       "    <span style=\"background: #beaed4; z-index: 10; color: #beaed4; bottom: 0px; right: 0px; padding: 2px 3px; position: absolute; font-size: 0.6em; font-weight: bold; line-height: 1; border-radius: 3px\">\n",
       "        |\n",
       "    </span>\n",
       "</span>\n",
       "\n",
       "    \n",
       "</span>\n",
       " . In comparison to the activation barriers for \n",
       "<mark class=\"entity\" style=\"background: pink; padding: 0.45em 0.6em; margin: 0 0.25em; line-height: 1; border-radius: 0.35em;display: inline-block;\">\n",
       "    HMF\n",
       "    <span style=\"font-size: 0.8em; font-weight: bold; line-height: 1; border-radius: 0.35em; vertical-align: middle; margin-left: 0.5rem\">CHEM</span>\n",
       "</mark>\n",
       " formation from \n",
       "<mark class=\"entity\" style=\"background: pink; padding: 0.45em 0.6em; margin: 0 0.25em; line-height: 1; border-radius: 0.35em;display: inline-block;\">\n",
       "    glucose\n",
       "    <span style=\"font-size: 0.8em; font-weight: bold; line-height: 1; border-radius: 0.35em; vertical-align: middle; margin-left: 0.5rem\">CHEM</span>\n",
       "</mark>\n",
       " in the literature (Table S4), our estimates are much lower, signifying that the catalytic system comprising ESP-Phos200 can efficiently catalyze \n",
       "<mark class=\"entity\" style=\"background: pink; padding: 0.45em 0.6em; margin: 0 0.25em; line-height: 1; border-radius: 0.35em;display: inline-block;\">\n",
       "    glucose\n",
       "    <span style=\"font-size: 0.8em; font-weight: bold; line-height: 1; border-radius: 0.35em; vertical-align: middle; margin-left: 0.5rem\">CHEM</span>\n",
       "</mark>\n",
       " dehydration to \n",
       "<mark class=\"entity\" style=\"background: pink; padding: 0.45em 0.6em; margin: 0 0.25em; line-height: 1; border-radius: 0.35em;display: inline-block;\">\n",
       "    HMF\n",
       "    <span style=\"font-size: 0.8em; font-weight: bold; line-height: 1; border-radius: 0.35em; vertical-align: middle; margin-left: 0.5rem\">CHEM</span>\n",
       "</mark>\n",
       ". Further, the thermodynamic parameters were calculated for \n",
       "<mark class=\"entity\" style=\"background: pink; padding: 0.45em 0.6em; margin: 0 0.25em; line-height: 1; border-radius: 0.35em;display: inline-block;\">\n",
       "    glucose\n",
       "    <span style=\"font-size: 0.8em; font-weight: bold; line-height: 1; border-radius: 0.35em; vertical-align: middle; margin-left: 0.5rem\">CHEM</span>\n",
       "</mark>\n",
       " dehydration reaction using transition state theory, based on Eyring equation. 68 </div></span>"
      ],
      "text/plain": [
       "<IPython.core.display.HTML object>"
      ]
     },
     "metadata": {},
     "output_type": "display_data"
    }
   ],
   "source": [
    "display_tuples_for_doc(nlp, \"10.26434/chemrxiv-2024-f58l0-v2\", triplets_only=False)"
   ]
  },
  {
   "cell_type": "code",
   "execution_count": null,
   "id": "620d5fc5-974b-4667-8545-bec278fd0bd7",
   "metadata": {},
   "outputs": [],
   "source": []
  }
 ],
 "metadata": {
  "kernelspec": {
   "display_name": "Python 3 (ipykernel)",
   "language": "python",
   "name": "python3"
  },
  "language_info": {
   "codemirror_mode": {
    "name": "ipython",
    "version": 3
   },
   "file_extension": ".py",
   "mimetype": "text/x-python",
   "name": "python",
   "nbconvert_exporter": "python",
   "pygments_lexer": "ipython3",
   "version": "3.11.8"
  }
 },
 "nbformat": 4,
 "nbformat_minor": 5
}
